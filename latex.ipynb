{
 "cells": [
  {
   "cell_type": "markdown",
   "metadata": {
    "pycharm": {
     "name": "#%% md\n"
    }
   },
   "source": [
    "# Preliminaries"
   ]
  },
  {
   "cell_type": "code",
   "execution_count": 1,
   "metadata": {
    "pycharm": {
     "is_executing": false
    }
   },
   "outputs": [
    {
     "name": "stdout",
     "output_type": "stream",
     "text": [
      "\u001b[36m2019-11-28 09:30:46,655\u001b[0m \u001b[37mINFO    \u001b[0m \u001b[01;34mailog.classes.setup_logging        \u001b[0m Config loaded.\u001b[0m\n"
     ]
    }
   ],
   "source": [
    "from util import read_schema, read_collection_annotation, \\\n",
    "    format_counter_for_latex, format_all_for_latex\n",
    "%load_ext autoreload\n",
    "%autoreload 2\n",
    "import metrics\n",
    "metrics.logger.setLevel(\"WARNING\")\n",
    "\n"
   ]
  },
  {
   "cell_type": "markdown",
   "metadata": {
    "pycharm": {
     "name": "#%% md\n"
    }
   },
   "source": [
    "# Load data\n",
    "Assuming you have brat-data in `/data/`...\n",
    "\n",
    "Load all collections and the annotation schema."
   ]
  },
  {
   "cell_type": "code",
   "execution_count": 2,
   "metadata": {
    "pycharm": {
     "is_executing": false,
     "name": "#%% \n"
    }
   },
   "outputs": [
    {
     "name": "stdout",
     "output_type": "stream",
     "text": [
      "/data/brat-data/rc-datasets/msmarco/*.txt\n",
      "/data/brat-data/rc-datasets/hotpotqa/*.txt\n",
      "/data/brat-data/rc-datasets/record/*.txt\n",
      "/data/brat-data/rc-datasets/multirc/*.txt\n",
      "/data/brat-data/rc-datasets/newsqa/*.txt\n",
      "/data/brat-data/rc-datasets/drop/*.txt\n"
     ]
    }
   ],
   "source": [
    "path = \"/data/brat-data/rc-datasets/\"\n",
    "labels, categories = read_schema(f'{path}annotation.conf')\n",
    "msmarco = read_collection_annotation(f'{path}msmarco')\n",
    "hotpotqa = read_collection_annotation(f'{path}hotpotqa')\n",
    "record = read_collection_annotation(f'{path}record')\n",
    "multirc =  read_collection_annotation(f'{path}multirc')\n",
    "newsqa = read_collection_annotation(f'{path}newsqa')\n",
    "drop = read_collection_annotation(f'{path}drop')\n",
    "all_datasets = [msmarco, hotpotqa, record, multirc, newsqa, drop]\n"
   ]
  },
  {
   "cell_type": "markdown",
   "metadata": {
    "pycharm": {
     "name": "#%% md\n"
    }
   },
   "source": [
    "# Reasoning"
   ]
  },
  {
   "cell_type": "code",
   "execution_count": 3,
   "metadata": {
    "pycharm": {
     "is_executing": false,
     "name": "#%%\n"
    }
   },
   "outputs": [
    {
     "name": "stdout",
     "output_type": "stream",
     "text": [
      "\n",
      "    xticklabels={Bridge,Compa\\-rison,Constraint,Inter\\-section,Subtraction,Addition,Count,Ordering,Other Math,Negation,Con-/Disjunction,Quantifiers,Temporal,Spatial,Causal,By Exclusion,Retrieval},\n",
      "    xtick={0,1,2,3,4,5,6,7,8,9,10,11,12,13,14,15,16,17},\n",
      "    xmin=0, xmax=17,\n",
      "    ]\n",
      "    \\addplot+[bar shift=-6.25pt, color=bblue, fill=bblue] \n",
      "coordinates {\n",
      "    (0.5,3) (1.5,3) (2.5,0) (3.5,0) (4.5,0) (5.5,0) (6.5,0) (7.5,0) (8.5,0) (9.5,0) (10.5,0) (11.5,7) (12.5,0) (13.5,0) (14.5,0) (15.5,0) (16.5,87)\n",
      "    };\n",
      "\\addplot+[bar shift=-3.75pt, color=rred, fill=rred] \n",
      "coordinates {\n",
      "    (0.5,46) (1.5,4) (2.5,22) (3.5,8) (4.5,0) (5.5,0) (6.5,0) (7.5,6) (8.5,0) (9.5,0) (10.5,0) (11.5,0) (12.5,0) (13.5,2) (14.5,0) (15.5,0) (16.5,26)\n",
      "    };\n",
      "\\addplot+[bar shift=-1.25pt, color=ggreen, fill=ggreen] \n",
      "coordinates {\n",
      "    (0.5,0) (1.5,0) (2.5,0) (3.5,0) (4.5,0) (5.5,0) (6.5,0) (7.5,0) (8.5,0) (9.5,5) (10.5,0) (11.5,0) (12.5,0) (13.5,0) (14.5,5) (15.5,40) (16.5,72)\n",
      "    };\n",
      "\\addplot+[bar shift=1.25pt, color=ppurple, fill=ppurple] \n",
      "coordinates {\n",
      "    (0.5,0) (1.5,0) (2.5,2) (3.5,0) (4.5,2) (5.5,0) (6.5,0) (7.5,0) (8.5,0) (9.5,2) (10.5,2) (11.5,10) (12.5,0) (13.5,0) (14.5,31) (15.5,2) (16.5,61)\n",
      "    };\n",
      "\\addplot+[bar shift=3.75pt, color=pink, fill=pink] \n",
      "coordinates {\n",
      "    (0.5,0) (1.5,0) (2.5,5) (3.5,0) (4.5,0) (5.5,0) (6.5,0) (7.5,0) (8.5,0) (9.5,0) (10.5,0) (11.5,0) (12.5,0) (13.5,0) (14.5,0) (15.5,0) (16.5,100)\n",
      "    };\n",
      "\\addplot+[bar shift=6.25pt, color=teal, fill=teal] \n",
      "coordinates {\n",
      "    (0.5,0) (1.5,0) (2.5,12) (3.5,0) (4.5,40) (5.5,4) (6.5,14) (7.5,22) (8.5,4) (9.5,4) (10.5,0) (11.5,0) (12.5,0) (13.5,0) (14.5,0) (15.5,0) (16.5,18)\n",
      "    };\n",
      "    \n"
     ]
    }
   ],
   "source": [
    "from util import count_category\n",
    "\n",
    "reasoning_categories = ['Join', 'Comparison','Constraint', 'Intersection',\n",
    "                        'Subtraction', 'Addition', 'Count', 'ArgSelect', 'OtherArithmethic',\n",
    "                        'Negation', 'ConDisJunction',\n",
    "                        'Quantifiers',\n",
    "                        'Temporal', 'Spatial', 'Causal', 'ByExclusion', \n",
    "                        'Retrieval']\n",
    "print(format_all_for_latex(reasoning_categories,\n",
    "        *(format_counter_for_latex(\n",
    "            count_category(d,\n",
    "                            \"Reasoning\",\n",
    "                            combine_categories=['Quantifiers'],\n",
    "                            categories=categories, only_if_sf_present=True)[1], \n",
    "            reasoning_categories)\n",
    "            for d in all_datasets), {\"ConDisJunction\": \"Con-/Disjunction\",\"ArgSelect\": \"Ordering\", \"OtherArithmethic\": \"Other Math\", \"ByExclusion\": \"By Exclusion\",\"Join\": \"Bridge\", \"Intersection\": \"Inter\\-section\", \"Comparison\": \"Compa\\-rison\"}, use_names=False)\n",
    ")"
   ]
  },
  {
   "cell_type": "markdown",
   "metadata": {
    "pycharm": {
     "name": "#%% md\n"
    }
   },
   "source": [
    "# Answer Categories"
   ]
  },
  {
   "cell_type": "code",
   "execution_count": 4,
   "metadata": {
    "pycharm": {
     "is_executing": false,
     "name": "#%%\n"
    }
   },
   "outputs": [
    {
     "name": "stdout",
     "output_type": "stream",
     "text": [
      "['Span', 'Paraphrasing', 'Unanswerable', 'Abstraction']\n",
      "\n",
      "    xticklabels={Span,Para\\-Phrasing,Unans\\-werable,Abstraction},\n",
      "    xtick={0,1,2,3,4},\n",
      "    xmin=0, xmax=4,\n",
      "    ]\n",
      "    \\addplot+[bar shift=-6.25pt, color=bblue, fill=bblue] \n",
      "coordinates {\n",
      "    (0.5,50) (1.5,8) (2.5,40) (3.5,2)\n",
      "    };\n",
      "\\addplot+[bar shift=-3.75pt, color=rred, fill=rred] \n",
      "coordinates {\n",
      "    (0.5,98) (1.5,0) (2.5,0) (3.5,2)\n",
      "    };\n",
      "\\addplot+[bar shift=-1.25pt, color=ggreen, fill=ggreen] \n",
      "coordinates {\n",
      "    (0.5,100) (1.5,0) (2.5,0) (3.5,0)\n",
      "    };\n",
      "\\addplot+[bar shift=1.25pt, color=ppurple, fill=ppurple] \n",
      "coordinates {\n",
      "    (0.5,72) (1.5,48) (2.5,0) (3.5,24)\n",
      "    };\n",
      "\\addplot+[bar shift=3.75pt, color=pink, fill=pink] \n",
      "coordinates {\n",
      "    (0.5,76) (1.5,0) (2.5,24) (3.5,0)\n",
      "    };\n",
      "\\addplot+[bar shift=6.25pt, color=teal, fill=teal] \n",
      "coordinates {\n",
      "    (0.5,40) (1.5,0) (2.5,0) (3.5,62)\n",
      "    };\n",
      "    \n"
     ]
    }
   ],
   "source": [
    "from util import count_answers\n",
    "map_to={\"Paraphrasing\": \"Para\\-Phrasing\", \"Unanswerable\": \"Unans\\-werable\"}\n",
    "answer_categories = categories['Answer']\n",
    "print(answer_categories)\n",
    "print(format_all_for_latex(answer_categories,\n",
    "    *(format_counter_for_latex(\n",
    "        count_answers(d, categories=categories)[1], answer_categories )\n",
    "    for d in all_datasets),map_to=map_to)\n",
    ")"
   ]
  },
  {
   "cell_type": "markdown",
   "metadata": {
    "pycharm": {
     "is_executing": false,
     "name": "#%% md\n"
    }
   },
   "source": [
    "# Answer Quality"
   ]
  },
  {
   "cell_type": "code",
   "execution_count": 5,
   "metadata": {
    "pycharm": {
     "is_executing": false,
     "name": "#%%\n"
    }
   },
   "outputs": [
    {
     "name": "stdout",
     "output_type": "stream",
     "text": [
      "\n",
      "    xticklabels={Debatable,Wrong},\n",
      "    xtick={0,1,2},\n",
      "    xmin=0, xmax=2,\n",
      "    ]\n",
      "    \\addplot+[bar shift=-6.25pt, color=bblue, fill=bblue] \n",
      "coordinates {\n",
      "    (0.5,34) (1.5,12)\n",
      "    };\n",
      "\\addplot+[bar shift=-3.75pt, color=rred, fill=rred] \n",
      "coordinates {\n",
      "    (0.5,24) (1.5,2)\n",
      "    };\n",
      "\\addplot+[bar shift=-1.25pt, color=ggreen, fill=ggreen] \n",
      "coordinates {\n",
      "    (0.5,8) (1.5,0)\n",
      "    };\n",
      "\\addplot+[bar shift=1.25pt, color=ppurple, fill=ppurple] \n",
      "coordinates {\n",
      "    (0.5,28) (1.5,10)\n",
      "    };\n",
      "\\addplot+[bar shift=3.75pt, color=pink, fill=pink] \n",
      "coordinates {\n",
      "    (0.5,32) (1.5,10)\n",
      "    };\n",
      "\\addplot+[bar shift=6.25pt, color=teal, fill=teal] \n",
      "coordinates {\n",
      "    (0.5,10) (1.5,0)\n",
      "    };\n",
      "    \n"
     ]
    }
   ],
   "source": [
    "from util import count_category\n",
    "operation_categories = [\"Debatable\", \"Wrong\"]\n",
    "print(format_all_for_latex(operation_categories,\n",
    "    *(format_counter_for_latex(\n",
    "        count_category(d, \n",
    "                       \"AnswerCorrectness\",\n",
    "                       categories=categories)[1], operation_categories, )\n",
    "    for d in all_datasets))\n",
    ")\n"
   ]
  },
  {
   "cell_type": "markdown",
   "metadata": {
    "pycharm": {
     "name": "#%% md\n"
    }
   },
   "source": [
    "# Linguistic Features"
   ]
  },
  {
   "cell_type": "code",
   "execution_count": 6,
   "metadata": {
    "pycharm": {
     "is_executing": false,
     "name": "#%%\n"
    }
   },
   "outputs": [
    {
     "name": "stdout",
     "output_type": "stream",
     "text": [
      "\n",
      "    xticklabels={Redundancy,Lex Entailment,Dative,Synonym,Abbreviation,Symmetry,Nomi\\-nalisation,Genitive,Voice,Restrictivity,Factivity,Coreference,Ellipsis Implicit,Preposition,Listing,Scope,RelAdvApp},\n",
      "    xtick={0,1,2,3,4,5,6,7,8,9,10,11,12,13,14,15,16,17},\n",
      "    xmin=0, xmax=17,\n",
      "        ]\n",
      "    \\addplot+[legend entry=\\textsc{MSMarco}, color=bblue, fill=bblue] \n",
      "coordinates {\n",
      "    (0.5,40) (1.5,0) (2.5,0) (3.5,23) (4.5,7) (5.5,0) (6.5,0) (7.5,0) (8.5,7) (9.5,0) (10.5,0) (11.5,23) (12.5,7) (13.5,0) (14.5,0) (15.5,0) (16.5,0)\n",
      "    };\n",
      "\\addplot+[legend entry=\\textsc{HotpotQA}, color=rred, fill=rred] \n",
      "coordinates {\n",
      "    (0.5,76) (1.5,2) (2.5,0) (3.5,14) (4.5,8) (5.5,0) (6.5,12) (7.5,0) (8.5,8) (9.5,0) (10.5,0) (11.5,64) (12.5,6) (13.5,2) (14.5,32) (15.5,0) (16.5,40)\n",
      "    };\n",
      "\\addplot+[legend entry=\\textsc{ReCoRd}, color=ggreen, fill=ggreen] \n",
      "coordinates {\n",
      "    (0.5,44) (1.5,2) (2.5,0) (3.5,58) (4.5,2) (5.5,0) (6.5,0) (7.5,0) (8.5,5) (9.5,0) (10.5,0) (11.5,60) (12.5,7) (13.5,0) (14.5,12) (15.5,0) (16.5,7)\n",
      "    };\n",
      "\\addplot+[legend entry=\\textsc{MultiRC}, color=ppurple, fill=ppurple] \n",
      "coordinates {\n",
      "    (0.5,63) (1.5,4) (2.5,0) (3.5,22) (4.5,2) (5.5,0) (6.5,2) (7.5,0) (8.5,2) (9.5,0) (10.5,2) (11.5,69) (12.5,6) (13.5,0) (14.5,12) (15.5,0) (16.5,8)\n",
      "    };\n",
      "\\addplot+[legend entry=\\textsc{NewsQA}, color=pink, fill=pink] \n",
      "coordinates {\n",
      "    (0.5,71) (1.5,0) (2.5,0) (3.5,39) (4.5,0) (5.5,0) (6.5,0) (7.5,0) (8.5,3) (9.5,0) (10.5,0) (11.5,29) (12.5,3) (13.5,0) (14.5,3) (15.5,0) (16.5,21)\n",
      "    };\n",
      "\\addplot+[legend entry=\\textsc{DROP}, color=teal, fill=teal] \n",
      "coordinates {\n",
      "    (0.5,60) (1.5,0) (2.5,0) (3.5,24) (4.5,14) (5.5,0) (6.5,4) (7.5,0) (8.5,4) (9.5,0) (10.5,0) (11.5,14) (12.5,16) (13.5,0) (14.5,26) (15.5,0) (16.5,6)\n",
      "    };\n",
      "    \n"
     ]
    }
   ],
   "source": [
    "linguistic_categories = [\n",
    "     'Redundancy',\n",
    "     'LexEntailment',\n",
    "     'Dative',\n",
    "     'Synonyms',\n",
    "     'Abbreviation',\n",
    "     'SymmetryCollectivityCoreArg',\n",
    "     'Nominalisation',\n",
    "     'Genitive',\n",
    "     'Voice',\n",
    "     'Restrictivity',\n",
    "     'Factivity',\n",
    "     'Coreference',\n",
    "     'EllipsisImplicit',\n",
    "     'Preposition',\n",
    "     'Listing',\n",
    "     'CoordinationScope',\n",
    "     'RelativeClause'\n",
    "]\n",
    "map_to = {\n",
    "    'Synonyms': 'Synonym',\n",
    "    'SymmetryCollectivityCoreArg': \"Symmetry\",\n",
    "    'CoordinationScope': 'Scope',\n",
    "    'LexEntailment': 'Lex Entailment',\n",
    "    'EllipsisImplicit': 'Ellipsis Implicit',\n",
    "    'RelativeClause': 'RelAdvApp',\n",
    "    'Nominalisation': 'Nomi\\-nalisation'\n",
    "}\n",
    "print(format_all_for_latex(linguistic_categories,\n",
    "        *(format_counter_for_latex(\n",
    "            count_category(d,\n",
    "                            \"LinguisticComplexity\",\n",
    "                            categories=categories, only_if_sf_present=True)[1], \n",
    "            linguistic_categories)\n",
    "            for d in all_datasets), map_to, use_names=True)\n",
    ")"
   ]
  },
  {
   "cell_type": "markdown",
   "metadata": {
    "pycharm": {
     "is_executing": false,
     "name": "#%% md\n"
    }
   },
   "source": [
    "# Knowledge"
   ]
  },
  {
   "cell_type": "code",
   "execution_count": 7,
   "metadata": {
    "pycharm": {
     "is_executing": false,
     "name": "#%%\n"
    }
   },
   "outputs": [
    {
     "name": "stdout",
     "output_type": "stream",
     "text": [
      "\n",
      "    xticklabels={Cultural,Political,Technical,Domain Specific,Intuitive},\n",
      "    xtick={0,1,2,3,4,5},\n",
      "    xmin=0, xmax=5,\n",
      "    ]\n",
      "    \\addplot+[bar shift=-6.25pt, color=bblue, fill=bblue] \n",
      "coordinates {\n",
      "    (0.5,0) (1.5,0) (2.5,0) (3.5,0) (4.5,10)\n",
      "    };\n",
      "\\addplot+[bar shift=-3.75pt, color=rred, fill=rred] \n",
      "coordinates {\n",
      "    (0.5,2) (1.5,2) (2.5,0) (3.5,2) (4.5,10)\n",
      "    };\n",
      "\\addplot+[bar shift=-1.25pt, color=ggreen, fill=ggreen] \n",
      "coordinates {\n",
      "    (0.5,6) (1.5,12) (2.5,2) (3.5,4) (4.5,18)\n",
      "    };\n",
      "\\addplot+[bar shift=1.25pt, color=ppurple, fill=ppurple] \n",
      "coordinates {\n",
      "    (0.5,2) (1.5,0) (2.5,4) (3.5,0) (4.5,18)\n",
      "    };\n",
      "\\addplot+[bar shift=3.75pt, color=pink, fill=pink] \n",
      "coordinates {\n",
      "    (0.5,0) (1.5,3) (2.5,0) (3.5,0) (4.5,13)\n",
      "    };\n",
      "\\addplot+[bar shift=6.25pt, color=teal, fill=teal] \n",
      "coordinates {\n",
      "    (0.5,0) (1.5,2) (2.5,0) (3.5,10) (4.5,28)\n",
      "    };\n",
      "    \n"
     ]
    }
   ],
   "source": [
    "\n",
    "from util import count_category\n",
    "map_to = {\"DomainSpecific\": \"Domain Specific\", \"Geographical\": \"Geo\\-graphical\"}\n",
    "operation_categories = [\"Cultural\",\n",
    "                        \"Political\",\n",
    "                        \"Technical\",\n",
    "                        \"DomainSpecific\",\"Intuitive\"]\n",
    "print(format_all_for_latex(operation_categories,\n",
    "        *(format_counter_for_latex(\n",
    "            count_category(d,\n",
    "                            \"Knowledge\",\n",
    "                            categories=categories, only_if_not_unanswerable=True)[1], operation_categories, )\n",
    "            for d in all_datasets), map_to=map_to)\n",
    ")"
   ]
  }
 ],
 "metadata": {
  "kernelspec": {
   "display_name": "Python 3",
   "language": "python",
   "name": "python3"
  },
  "language_info": {
   "codemirror_mode": {
    "name": "ipython",
    "version": 3
   },
   "file_extension": ".py",
   "mimetype": "text/x-python",
   "name": "python",
   "nbconvert_exporter": "python",
   "pygments_lexer": "ipython3",
   "version": "3.7.5"
  },
  "pycharm": {
   "stem_cell": {
    "cell_type": "raw",
    "metadata": {
     "collapsed": false
    },
    "source": []
   }
  }
 },
 "nbformat": 4,
 "nbformat_minor": 1
}
