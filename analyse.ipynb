{
 "cells": [
  {
   "cell_type": "markdown",
   "metadata": {
    "pycharm": {
     "name": "#%% md\n"
    }
   },
   "source": [
    "# Preliminaries"
   ]
  },
  {
   "cell_type": "code",
   "execution_count": 1,
   "metadata": {
    "pycharm": {
     "is_executing": false
    }
   },
   "outputs": [
    {
     "name": "stdout",
     "output_type": "stream",
     "text": [
      "\u001b[36m2019-11-28 07:29:31,465\u001b[0m \u001b[37mINFO    \u001b[0m \u001b[01;34mailog.classes.setup_logging        \u001b[0m Config loaded.\u001b[0m\n"
     ]
    }
   ],
   "source": [
    "from nltk import word_tokenize\n",
    "from util import read_schema, read_collection_annotation, get_question\n",
    "%load_ext autoreload\n",
    "%autoreload 2\n",
    "import metrics\n",
    "metrics.logger.setLevel(\"WARNING\")"
   ]
  },
  {
   "cell_type": "code",
   "execution_count": 2,
   "metadata": {
    "pycharm": {
     "is_executing": false,
     "name": "#%%\n"
    }
   },
   "outputs": [],
   "source": [
    "def avg(l):\n",
    "    return sum(l)/len(l)\n"
   ]
  },
  {
   "cell_type": "markdown",
   "metadata": {
    "pycharm": {
     "name": "#%% md\n"
    }
   },
   "source": [
    "# Load data\n",
    "Assuming you have brat-data in `/data/`...\n",
    "\n",
    "Load all collections and the annotation schema."
   ]
  },
  {
   "cell_type": "code",
   "execution_count": 3,
   "metadata": {
    "pycharm": {
     "is_executing": false,
     "name": "#%% \n"
    }
   },
   "outputs": [
    {
     "name": "stdout",
     "output_type": "stream",
     "text": [
      "/data/brat-data/rc-datasets/msmarco/*.txt\n",
      "/data/brat-data/rc-datasets/hotpotqa/*.txt\n",
      "/data/brat-data/rc-datasets/record/*.txt\n",
      "/data/brat-data/rc-datasets/multirc/*.txt\n",
      "/data/brat-data/rc-datasets/newsqa/*.txt\n",
      "/data/brat-data/rc-datasets/drop/*.txt\n"
     ]
    }
   ],
   "source": [
    "path = \"/data/brat-data/rc-datasets/\"\n",
    "labels, categories = read_schema(f'{path}annotation.conf')\n",
    "msmarco = read_collection_annotation(f'{path}msmarco')\n",
    "hotpotqa = read_collection_annotation(f'{path}hotpotqa')\n",
    "record = read_collection_annotation(f'{path}record')\n",
    "multirc =  read_collection_annotation(f'{path}multirc')\n",
    "newsqa = read_collection_annotation(f'{path}newsqa')\n",
    "drop = read_collection_annotation(f'{path}drop')\n",
    "all_datasets = [msmarco, hotpotqa, record, multirc, newsqa, drop]\n"
   ]
  },
  {
   "cell_type": "code",
   "execution_count": 4,
   "metadata": {
    "pycharm": {
     "is_executing": false,
     "name": "#%%\n"
    }
   },
   "outputs": [
    {
     "name": "stdout",
     "output_type": "stream",
     "text": [
      "/data/brat-data/rc-datasets/marco-msmarco/*.txt\n",
      "/data/brat-data/rc-datasets/marco-hotpotqa/*.txt\n",
      "/data/brat-data/rc-datasets/marco-record/*.txt\n",
      "/data/brat-data/rc-datasets/marco-multirc/*.txt\n",
      "/data/brat-data/rc-datasets/marco-newsqa/*.txt\n",
      "/data/brat-data/rc-datasets/marco-drop/*.txt\n"
     ]
    }
   ],
   "source": [
    "path_marco = \"/data/brat-data/rc-datasets/marco-\"\n",
    "msmarco_marco = read_collection_annotation(f'{path_marco}msmarco')\n",
    "hotpotqa_marco = read_collection_annotation(f'{path_marco}hotpotqa')\n",
    "record_marco = read_collection_annotation(f'{path_marco}record')\n",
    "multirc_marco =  read_collection_annotation(f'{path_marco}multirc')\n",
    "newsqa_marco = read_collection_annotation(f'{path_marco}newsqa')\n",
    "drop_marco = read_collection_annotation(f'{path_marco}drop')\n",
    "all_datasets_marco = [msmarco_marco, hotpotqa_marco, record_marco, multirc_marco, newsqa_marco, drop_marco]\n"
   ]
  },
  {
   "cell_type": "markdown",
   "metadata": {
    "pycharm": {
     "name": "#%% md\n"
    }
   },
   "source": [
    "# Inter-annotator Agreement"
   ]
  },
  {
   "cell_type": "code",
   "execution_count": 5,
   "metadata": {
    "pycharm": {
     "is_executing": false,
     "name": "#%%\n"
    }
   },
   "outputs": [
    {
     "name": "stdout",
     "output_type": "stream",
     "text": [
      "results for: msmarco, hotpotqa, record, multirc, newsqa, drop\n",
      "0.86\n",
      "0.88\n",
      "0.73\n",
      "0.76\n",
      "0.87\n",
      "0.85\n",
      "All datasets, all categories:\n",
      "0.82\n"
     ]
    }
   ],
   "source": [
    "from util import interpolated_agreement_tp_fp_fn\n",
    "# this category was discarded in favour of the quantitative lex overlap analysis\n",
    "correct_labels = [l for l in labels if l not in categories['Source']]\n",
    "# taking supporting facts into consideration biases the annotation scores towards 1\n",
    "correct_labels.remove(\"SupportingFact\")\n",
    "\n",
    "\n",
    "def pprint(r):\n",
    "    print(f\"{r:0.2f}\")\n",
    "\n",
    "def micro_f1(tp, fp, fn):\n",
    "    \n",
    "    p = tp/(tp+fp)\n",
    "    r = tp/(tp+fn)\n",
    "    return 2*p*r/(p+r)\n",
    "    \n",
    "print(\"results for: msmarco, hotpotqa, record, multirc, newsqa, drop\")\n",
    "for i,ds in enumerate(all_datasets):\n",
    "         r = interpolated_agreement_tp_fp_fn(ds, all_datasets_marco[i], correct_labels)\n",
    "         pprint(micro_f1(*r))\n",
    "\n",
    "from functools import reduce\n",
    "def tuplesum(t1,t2):\n",
    "    return (a+b for a,b in zip(t1,t2))\n",
    "\n",
    "print(\"All datasets, all categories:\")\n",
    "r = [interpolated_agreement_tp_fp_fn(ds, all_datasets_marco[i], correct_labels) for i,ds in enumerate(all_datasets)]\n",
    "pprint(micro_f1(*reduce(tuplesum, r)))"
   ]
  },
  {
   "cell_type": "markdown",
   "metadata": {
    "pycharm": {
     "name": "#%% md\n"
    }
   },
   "source": [
    "# Logistic Regression"
   ]
  },
  {
   "cell_type": "code",
   "execution_count": 6,
   "metadata": {
    "pycharm": {
     "is_executing": false,
     "name": "#%%\n"
    }
   },
   "outputs": [],
   "source": [
    "from metrics import MaxNgramScorer, ContainsUniqueNgramScorer, MaxContainsScorer\n",
    "s_max_ngram = MaxNgramScorer(True, True, True)\n",
    "s_max_contains = MaxContainsScorer(True, True, True)\n",
    "s_unique_unigram = ContainsUniqueNgramScorer(n=1, remove_stopwords=True)\n",
    "s_unique_bigram = ContainsUniqueNgramScorer(n=2, remove_stopwords=True)\n",
    "from util import split_drop, split_hotpotqa, split_newsqa, split_multirc, split_record, split_msmarco\n",
    "from learn import cv_the_cv, dataset_from_sample\n",
    "from sklearn.linear_model import LogisticRegression\n",
    "l = lambda: LogisticRegression(solver='lbfgs')\n",
    "scorers = [s_max_ngram, s_max_contains, s_unique_unigram, s_unique_bigram]\n",
    "import learn\n",
    "learn.logger.setLevel(\"WARNING\")"
   ]
  },
  {
   "cell_type": "code",
   "execution_count": 7,
   "metadata": {
    "pycharm": {
     "is_executing": false,
     "name": "#%%\n"
    }
   },
   "outputs": [
    {
     "data": {
      "application/vnd.jupyter.widget-view+json": {
       "model_id": "60d75e8a0685435bbae84d13e980c38a",
       "version_major": 2,
       "version_minor": 0
      },
      "text/plain": [
       "HBox(children=(IntProgress(value=0, max=50), HTML(value='')))"
      ]
     },
     "metadata": {},
     "output_type": "display_data"
    },
    {
     "name": "stdout",
     "output_type": "stream",
     "text": [
      "\n"
     ]
    },
    {
     "data": {
      "application/vnd.jupyter.widget-view+json": {
       "model_id": "e90793cb2c424be5baf935872af878ba",
       "version_major": 2,
       "version_minor": 0
      },
      "text/plain": [
       "HBox(children=(IntProgress(value=0, max=50), HTML(value='')))"
      ]
     },
     "metadata": {},
     "output_type": "display_data"
    },
    {
     "name": "stdout",
     "output_type": "stream",
     "text": [
      "\n"
     ]
    },
    {
     "data": {
      "application/vnd.jupyter.widget-view+json": {
       "model_id": "efea1a838112444dbdf6cebdc10aedc9",
       "version_major": 2,
       "version_minor": 0
      },
      "text/plain": [
       "HBox(children=(IntProgress(value=0, max=50), HTML(value='')))"
      ]
     },
     "metadata": {},
     "output_type": "display_data"
    },
    {
     "name": "stdout",
     "output_type": "stream",
     "text": [
      "\n"
     ]
    },
    {
     "data": {
      "application/vnd.jupyter.widget-view+json": {
       "model_id": "d38ebfd03d4c4a88b3fc9bca54d2afb3",
       "version_major": 2,
       "version_minor": 0
      },
      "text/plain": [
       "HBox(children=(IntProgress(value=0, max=50), HTML(value='')))"
      ]
     },
     "metadata": {},
     "output_type": "display_data"
    },
    {
     "name": "stdout",
     "output_type": "stream",
     "text": [
      "\n"
     ]
    },
    {
     "data": {
      "application/vnd.jupyter.widget-view+json": {
       "model_id": "7c5d3f1276fe49f9848fb2ddc0b9499c",
       "version_major": 2,
       "version_minor": 0
      },
      "text/plain": [
       "HBox(children=(IntProgress(value=0, max=50), HTML(value='')))"
      ]
     },
     "metadata": {},
     "output_type": "display_data"
    },
    {
     "name": "stdout",
     "output_type": "stream",
     "text": [
      "\n"
     ]
    },
    {
     "data": {
      "application/vnd.jupyter.widget-view+json": {
       "model_id": "e50e0d090fdd4b88ba3db5f5cc7ce746",
       "version_major": 2,
       "version_minor": 0
      },
      "text/plain": [
       "HBox(children=(IntProgress(value=0, max=50), HTML(value='')))"
      ]
     },
     "metadata": {},
     "output_type": "display_data"
    },
    {
     "name": "stdout",
     "output_type": "stream",
     "text": [
      "\n",
      "DROP\n",
      "P: 0.61 (+/- 0.02)\n",
      "R: 0.79 (+/- 0.01)\n",
      "F1: 0.64 (+/- 0.02)\n"
     ]
    }
   ],
   "source": [
    "drop_ds = dataset_from_sample(drop, scorers, split_drop)\n",
    "results = cv_the_cv(drop_ds, l, k=0, n=5)\n",
    "\n",
    "p = results[:, 0]\n",
    "r = results[:, 1]\n",
    "f1 = results[:, 2]\n",
    "print(\"DROP\")\n",
    "print(f\"P: {p.mean():0.2f} (+/- {p.std() * 2:0.2f})\")\n",
    "print(f\"R: {r.mean():0.2f} (+/- {r.std() * 2:0.2f})\")\n",
    "print(f\"F1: {f1.mean():0.2f} (+/- {f1.std() * 2:0.2f})\")"
   ]
  },
  {
   "cell_type": "code",
   "execution_count": 8,
   "metadata": {
    "pycharm": {
     "is_executing": false,
     "name": "#%%\n"
    }
   },
   "outputs": [
    {
     "data": {
      "application/vnd.jupyter.widget-view+json": {
       "model_id": "88b8e08fa4cb4698acaa2950e8842ea2",
       "version_major": 2,
       "version_minor": 0
      },
      "text/plain": [
       "HBox(children=(IntProgress(value=0, max=50), HTML(value='')))"
      ]
     },
     "metadata": {},
     "output_type": "display_data"
    },
    {
     "name": "stdout",
     "output_type": "stream",
     "text": [
      "\n"
     ]
    },
    {
     "data": {
      "application/vnd.jupyter.widget-view+json": {
       "model_id": "86dbaed2f611413cb8d043431923400e",
       "version_major": 2,
       "version_minor": 0
      },
      "text/plain": [
       "HBox(children=(IntProgress(value=0, max=50), HTML(value='')))"
      ]
     },
     "metadata": {},
     "output_type": "display_data"
    },
    {
     "name": "stdout",
     "output_type": "stream",
     "text": [
      "\n"
     ]
    },
    {
     "data": {
      "application/vnd.jupyter.widget-view+json": {
       "model_id": "e05c2a8f1c994abba55cc248cf6cbe68",
       "version_major": 2,
       "version_minor": 0
      },
      "text/plain": [
       "HBox(children=(IntProgress(value=0, max=50), HTML(value='')))"
      ]
     },
     "metadata": {},
     "output_type": "display_data"
    },
    {
     "name": "stdout",
     "output_type": "stream",
     "text": [
      "\n"
     ]
    },
    {
     "data": {
      "application/vnd.jupyter.widget-view+json": {
       "model_id": "4ca5ccb2a5c44acea5c5874990c60565",
       "version_major": 2,
       "version_minor": 0
      },
      "text/plain": [
       "HBox(children=(IntProgress(value=0, max=50), HTML(value='')))"
      ]
     },
     "metadata": {},
     "output_type": "display_data"
    },
    {
     "name": "stdout",
     "output_type": "stream",
     "text": [
      "\n"
     ]
    },
    {
     "data": {
      "application/vnd.jupyter.widget-view+json": {
       "model_id": "50680834960f4e0a8a1cf642d885fc1c",
       "version_major": 2,
       "version_minor": 0
      },
      "text/plain": [
       "HBox(children=(IntProgress(value=0, max=50), HTML(value='')))"
      ]
     },
     "metadata": {},
     "output_type": "display_data"
    },
    {
     "name": "stdout",
     "output_type": "stream",
     "text": [
      "\n"
     ]
    },
    {
     "data": {
      "application/vnd.jupyter.widget-view+json": {
       "model_id": "1e6a31cd4a2544638b83917851070054",
       "version_major": 2,
       "version_minor": 0
      },
      "text/plain": [
       "HBox(children=(IntProgress(value=0, max=50), HTML(value='')))"
      ]
     },
     "metadata": {},
     "output_type": "display_data"
    },
    {
     "name": "stdout",
     "output_type": "stream",
     "text": [
      "\n",
      "HOTPOTQA\n",
      "P: 0.21 (+/- 0.02)\n",
      "R: 0.58 (+/- 0.04)\n",
      "F1: 0.25 (+/- 0.02)\n"
     ]
    }
   ],
   "source": [
    "hotpot_ds = dataset_from_sample(hotpotqa, scorers, split_hotpotqa)\n",
    "results = cv_the_cv(hotpot_ds, l, k=0, n=5)\n",
    "\n",
    "p = results[:, 0]\n",
    "r = results[:, 1]\n",
    "f1 = results[:, 2]\n",
    "print(\"HOTPOTQA\")\n",
    "print(f\"P: {p.mean():0.2f} (+/- {p.std() * 2:0.2f})\")\n",
    "print(f\"R: {r.mean():0.2f} (+/- {r.std() * 2:0.2f})\")\n",
    "print(f\"F1: {f1.mean():0.2f} (+/- {f1.std() * 2:0.2f})\")"
   ]
  },
  {
   "cell_type": "code",
   "execution_count": 9,
   "metadata": {
    "pycharm": {
     "is_executing": false,
     "name": "#%%\n"
    }
   },
   "outputs": [
    {
     "data": {
      "application/vnd.jupyter.widget-view+json": {
       "model_id": "c7399a78b4de4da7af51f00e96062198",
       "version_major": 2,
       "version_minor": 0
      },
      "text/plain": [
       "HBox(children=(IntProgress(value=0, max=50), HTML(value='')))"
      ]
     },
     "metadata": {},
     "output_type": "display_data"
    },
    {
     "name": "stdout",
     "output_type": "stream",
     "text": [
      "\n"
     ]
    },
    {
     "data": {
      "application/vnd.jupyter.widget-view+json": {
       "model_id": "ab00d8e2e4b744f2b4c779a194e92f14",
       "version_major": 2,
       "version_minor": 0
      },
      "text/plain": [
       "HBox(children=(IntProgress(value=0, max=30), HTML(value='')))"
      ]
     },
     "metadata": {},
     "output_type": "display_data"
    },
    {
     "name": "stdout",
     "output_type": "stream",
     "text": [
      "\n"
     ]
    },
    {
     "data": {
      "application/vnd.jupyter.widget-view+json": {
       "model_id": "d59d073f968c4687ada218c39ea2b859",
       "version_major": 2,
       "version_minor": 0
      },
      "text/plain": [
       "HBox(children=(IntProgress(value=0, max=30), HTML(value='')))"
      ]
     },
     "metadata": {},
     "output_type": "display_data"
    },
    {
     "name": "stdout",
     "output_type": "stream",
     "text": [
      "\n"
     ]
    },
    {
     "data": {
      "application/vnd.jupyter.widget-view+json": {
       "model_id": "3e4a5ce2557c4a28a9b73db264427ba9",
       "version_major": 2,
       "version_minor": 0
      },
      "text/plain": [
       "HBox(children=(IntProgress(value=0, max=30), HTML(value='')))"
      ]
     },
     "metadata": {},
     "output_type": "display_data"
    },
    {
     "name": "stdout",
     "output_type": "stream",
     "text": [
      "\n"
     ]
    },
    {
     "data": {
      "application/vnd.jupyter.widget-view+json": {
       "model_id": "ffed671ecf3240e381f0b2b46ad7491b",
       "version_major": 2,
       "version_minor": 0
      },
      "text/plain": [
       "HBox(children=(IntProgress(value=0, max=30), HTML(value='')))"
      ]
     },
     "metadata": {},
     "output_type": "display_data"
    },
    {
     "name": "stdout",
     "output_type": "stream",
     "text": [
      "\n"
     ]
    },
    {
     "data": {
      "application/vnd.jupyter.widget-view+json": {
       "model_id": "ab6bfbee9fa540bc968989a4bf5dfd1c",
       "version_major": 2,
       "version_minor": 0
      },
      "text/plain": [
       "HBox(children=(IntProgress(value=0, max=30), HTML(value='')))"
      ]
     },
     "metadata": {},
     "output_type": "display_data"
    },
    {
     "name": "stdout",
     "output_type": "stream",
     "text": [
      "\n",
      "MSMARCO\n",
      "P: 0.07 (+/- 0.03)\n",
      "R: 0.53 (+/- 0.05)\n",
      "F1: 0.11 (+/- 0.03)\n"
     ]
    }
   ],
   "source": [
    "msmarco_ds = dataset_from_sample(msmarco, scorers, split_msmarco)\n",
    "results = cv_the_cv(msmarco_ds, l, k=0, n=5)\n",
    "\n",
    "p = results[:, 0]\n",
    "r = results[:, 1]\n",
    "f1 = results[:, 2]\n",
    "print(\"MSMARCO\")\n",
    "print(f\"P: {p.mean():0.2f} (+/- {p.std() * 2:0.2f})\")\n",
    "print(f\"R: {r.mean():0.2f} (+/- {r.std() * 2:0.2f})\")\n",
    "print(f\"F1: {f1.mean():0.2f} (+/- {f1.std() * 2:0.2f})\")"
   ]
  },
  {
   "cell_type": "code",
   "execution_count": 10,
   "metadata": {
    "pycharm": {
     "is_executing": false,
     "name": "#%%\n"
    }
   },
   "outputs": [
    {
     "data": {
      "application/vnd.jupyter.widget-view+json": {
       "model_id": "f3f20b544d624b7b9ded7582f6893b56",
       "version_major": 2,
       "version_minor": 0
      },
      "text/plain": [
       "HBox(children=(IntProgress(value=0, max=50), HTML(value='')))"
      ]
     },
     "metadata": {},
     "output_type": "display_data"
    },
    {
     "name": "stdout",
     "output_type": "stream",
     "text": [
      "\n"
     ]
    },
    {
     "data": {
      "application/vnd.jupyter.widget-view+json": {
       "model_id": "2e37c938c01c46cabcb4871c17838815",
       "version_major": 2,
       "version_minor": 0
      },
      "text/plain": [
       "HBox(children=(IntProgress(value=0, max=42), HTML(value='')))"
      ]
     },
     "metadata": {},
     "output_type": "display_data"
    },
    {
     "name": "stdout",
     "output_type": "stream",
     "text": [
      "\n"
     ]
    },
    {
     "data": {
      "application/vnd.jupyter.widget-view+json": {
       "model_id": "ba294bcfc3484943be9397a17bc7c83a",
       "version_major": 2,
       "version_minor": 0
      },
      "text/plain": [
       "HBox(children=(IntProgress(value=0, max=42), HTML(value='')))"
      ]
     },
     "metadata": {},
     "output_type": "display_data"
    },
    {
     "name": "stdout",
     "output_type": "stream",
     "text": [
      "\n"
     ]
    },
    {
     "data": {
      "application/vnd.jupyter.widget-view+json": {
       "model_id": "e58f5639b4854abfb76541378ce92567",
       "version_major": 2,
       "version_minor": 0
      },
      "text/plain": [
       "HBox(children=(IntProgress(value=0, max=42), HTML(value='')))"
      ]
     },
     "metadata": {},
     "output_type": "display_data"
    },
    {
     "name": "stdout",
     "output_type": "stream",
     "text": [
      "\n"
     ]
    },
    {
     "data": {
      "application/vnd.jupyter.widget-view+json": {
       "model_id": "02c0fa4db9ac4eab92c5fc770462a93f",
       "version_major": 2,
       "version_minor": 0
      },
      "text/plain": [
       "HBox(children=(IntProgress(value=0, max=42), HTML(value='')))"
      ]
     },
     "metadata": {},
     "output_type": "display_data"
    },
    {
     "name": "stdout",
     "output_type": "stream",
     "text": [
      "\n"
     ]
    },
    {
     "data": {
      "application/vnd.jupyter.widget-view+json": {
       "model_id": "34e27025516648bfb78ff269e808e8a6",
       "version_major": 2,
       "version_minor": 0
      },
      "text/plain": [
       "HBox(children=(IntProgress(value=0, max=42), HTML(value='')))"
      ]
     },
     "metadata": {},
     "output_type": "display_data"
    },
    {
     "name": "stdout",
     "output_type": "stream",
     "text": [
      "\n",
      "RECORD\n",
      "P: 0.30 (+/- 0.04)\n",
      "R: 0.57 (+/- 0.04)\n",
      "F1: 0.36 (+/- 0.04)\n"
     ]
    }
   ],
   "source": [
    "record_ds = dataset_from_sample(record, scorers, split_record)\n",
    "results = cv_the_cv(record_ds, l, k=0, n=5)\n",
    "\n",
    "p = results[:, 0]\n",
    "r = results[:, 1]\n",
    "f1 = results[:, 2]\n",
    "print(\"RECORD\")\n",
    "print(f\"P: {p.mean():0.2f} (+/- {p.std() * 2:0.2f})\")\n",
    "print(f\"R: {r.mean():0.2f} (+/- {r.std() * 2:0.2f})\")\n",
    "print(f\"F1: {f1.mean():0.2f} (+/- {f1.std() * 2:0.2f})\")"
   ]
  },
  {
   "cell_type": "code",
   "execution_count": 11,
   "metadata": {
    "pycharm": {
     "is_executing": false,
     "name": "#%%\n"
    }
   },
   "outputs": [
    {
     "data": {
      "application/vnd.jupyter.widget-view+json": {
       "model_id": "03640d69709b4e28acf5db77b27618cc",
       "version_major": 2,
       "version_minor": 0
      },
      "text/plain": [
       "HBox(children=(IntProgress(value=0, max=50), HTML(value='')))"
      ]
     },
     "metadata": {},
     "output_type": "display_data"
    },
    {
     "name": "stdout",
     "output_type": "stream",
     "text": [
      "\n"
     ]
    },
    {
     "data": {
      "application/vnd.jupyter.widget-view+json": {
       "model_id": "4ed8854360be40b9ab0602ee47af5691",
       "version_major": 2,
       "version_minor": 0
      },
      "text/plain": [
       "HBox(children=(IntProgress(value=0, max=49), HTML(value='')))"
      ]
     },
     "metadata": {},
     "output_type": "display_data"
    },
    {
     "name": "stdout",
     "output_type": "stream",
     "text": [
      "\n"
     ]
    },
    {
     "data": {
      "application/vnd.jupyter.widget-view+json": {
       "model_id": "33116210355d4622847362e7cd070774",
       "version_major": 2,
       "version_minor": 0
      },
      "text/plain": [
       "HBox(children=(IntProgress(value=0, max=49), HTML(value='')))"
      ]
     },
     "metadata": {},
     "output_type": "display_data"
    },
    {
     "name": "stdout",
     "output_type": "stream",
     "text": [
      "\n"
     ]
    },
    {
     "data": {
      "application/vnd.jupyter.widget-view+json": {
       "model_id": "e7b110457085402dafe8fde3476bab0e",
       "version_major": 2,
       "version_minor": 0
      },
      "text/plain": [
       "HBox(children=(IntProgress(value=0, max=49), HTML(value='')))"
      ]
     },
     "metadata": {},
     "output_type": "display_data"
    },
    {
     "name": "stdout",
     "output_type": "stream",
     "text": [
      "\n"
     ]
    },
    {
     "data": {
      "application/vnd.jupyter.widget-view+json": {
       "model_id": "4068b13a96dc460bbcca624411834b0b",
       "version_major": 2,
       "version_minor": 0
      },
      "text/plain": [
       "HBox(children=(IntProgress(value=0, max=49), HTML(value='')))"
      ]
     },
     "metadata": {},
     "output_type": "display_data"
    },
    {
     "name": "stdout",
     "output_type": "stream",
     "text": [
      "\n"
     ]
    },
    {
     "data": {
      "application/vnd.jupyter.widget-view+json": {
       "model_id": "8c6367ec1c5c4552adf4c045f9e9f74a",
       "version_major": 2,
       "version_minor": 0
      },
      "text/plain": [
       "HBox(children=(IntProgress(value=0, max=49), HTML(value='')))"
      ]
     },
     "metadata": {},
     "output_type": "display_data"
    },
    {
     "name": "stdout",
     "output_type": "stream",
     "text": [
      "\n",
      "MULTIRC\n",
      "P: 0.36 (+/- 0.02)\n",
      "R: 0.61 (+/- 0.03)\n",
      "F1: 0.40 (+/- 0.02)\n"
     ]
    }
   ],
   "source": [
    "multirc_ds = dataset_from_sample(multirc, scorers, split_multirc)\n",
    "results = cv_the_cv(multirc_ds, l, k=0, n=5)\n",
    "\n",
    "p = results[:, 0]\n",
    "r = results[:, 1]\n",
    "f1 = results[:, 2]\n",
    "print(\"MULTIRC\")\n",
    "print(f\"P: {p.mean():0.2f} (+/- {p.std() * 2:0.2f})\")\n",
    "print(f\"R: {r.mean():0.2f} (+/- {r.std() * 2:0.2f})\")\n",
    "print(f\"F1: {f1.mean():0.2f} (+/- {f1.std() * 2:0.2f})\")"
   ]
  },
  {
   "cell_type": "code",
   "execution_count": 12,
   "metadata": {
    "pycharm": {
     "is_executing": false,
     "name": "#%%\n"
    }
   },
   "outputs": [
    {
     "data": {
      "application/vnd.jupyter.widget-view+json": {
       "model_id": "e4d7385303ed4e9ab0b739b74a51e4f0",
       "version_major": 2,
       "version_minor": 0
      },
      "text/plain": [
       "HBox(children=(IntProgress(value=0, max=50), HTML(value='')))"
      ]
     },
     "metadata": {},
     "output_type": "display_data"
    },
    {
     "name": "stdout",
     "output_type": "stream",
     "text": [
      "\n"
     ]
    },
    {
     "data": {
      "application/vnd.jupyter.widget-view+json": {
       "model_id": "b96ff379f40f45eab57443a01bbe7677",
       "version_major": 2,
       "version_minor": 0
      },
      "text/plain": [
       "HBox(children=(IntProgress(value=0, max=38), HTML(value='')))"
      ]
     },
     "metadata": {},
     "output_type": "display_data"
    },
    {
     "name": "stdout",
     "output_type": "stream",
     "text": [
      "\n"
     ]
    },
    {
     "data": {
      "application/vnd.jupyter.widget-view+json": {
       "model_id": "86fa0e80015e4636a8514b49d3737253",
       "version_major": 2,
       "version_minor": 0
      },
      "text/plain": [
       "HBox(children=(IntProgress(value=0, max=38), HTML(value='')))"
      ]
     },
     "metadata": {},
     "output_type": "display_data"
    },
    {
     "name": "stdout",
     "output_type": "stream",
     "text": [
      "\n"
     ]
    },
    {
     "data": {
      "application/vnd.jupyter.widget-view+json": {
       "model_id": "67fa041701d241a8be7631e856666c82",
       "version_major": 2,
       "version_minor": 0
      },
      "text/plain": [
       "HBox(children=(IntProgress(value=0, max=38), HTML(value='')))"
      ]
     },
     "metadata": {},
     "output_type": "display_data"
    },
    {
     "name": "stdout",
     "output_type": "stream",
     "text": [
      "\n"
     ]
    },
    {
     "data": {
      "application/vnd.jupyter.widget-view+json": {
       "model_id": "6f109b28e3f940b596f14bf445699cf4",
       "version_major": 2,
       "version_minor": 0
      },
      "text/plain": [
       "HBox(children=(IntProgress(value=0, max=38), HTML(value='')))"
      ]
     },
     "metadata": {},
     "output_type": "display_data"
    },
    {
     "name": "stdout",
     "output_type": "stream",
     "text": [
      "\n"
     ]
    },
    {
     "data": {
      "application/vnd.jupyter.widget-view+json": {
       "model_id": "b80001e304064161a78d4f357883021a",
       "version_major": 2,
       "version_minor": 0
      },
      "text/plain": [
       "HBox(children=(IntProgress(value=0, max=38), HTML(value='')))"
      ]
     },
     "metadata": {},
     "output_type": "display_data"
    },
    {
     "name": "stdout",
     "output_type": "stream",
     "text": [
      "\n",
      "NEWSQA\n",
      "P: 0.19 (+/- 0.02)\n",
      "R: 0.68 (+/- 0.05)\n",
      "F1: 0.26 (+/- 0.02)\n"
     ]
    }
   ],
   "source": [
    "newsqa_ds = dataset_from_sample(newsqa, scorers, split_newsqa)\n",
    "results = cv_the_cv(newsqa_ds, l, k=0, n=5)\n",
    "\n",
    "p = results[:, 0]\n",
    "r = results[:, 1]\n",
    "f1 = results[:, 2]\n",
    "print(\"NEWSQA\")\n",
    "print(f\"P: {p.mean():0.2f} (+/- {p.std() * 2:0.2f})\")\n",
    "print(f\"R: {r.mean():0.2f} (+/- {r.std() * 2:0.2f})\")\n",
    "print(f\"F1: {f1.mean():0.2f} (+/- {f1.std() * 2:0.2f})\")"
   ]
  },
  {
   "cell_type": "markdown",
   "metadata": {
    "pycharm": {
     "name": "#%% md\n"
    }
   },
   "source": [
    "# Average question lengths"
   ]
  },
  {
   "cell_type": "code",
   "execution_count": 13,
   "metadata": {
    "pycharm": {
     "is_executing": false,
     "name": "#%%\n"
    }
   },
   "outputs": [
    {
     "name": "stdout",
     "output_type": "stream",
     "text": [
      "results for:  msmarco, hotpotqa, record, multirc, newsqa, drop\n",
      "6.30\n",
      "18.30\n",
      "24.88\n",
      "11.44\n",
      "7.30\n",
      "13.00\n"
     ]
    }
   ],
   "source": [
    "print(\"results for:  msmarco, hotpotqa, record, multirc, newsqa, drop\")\n",
    "all_lengths = []\n",
    "for ds in all_datasets:\n",
    "    lengths = [len(word_tokenize(get_question(s.raw_text))) for s,_ in ds]\n",
    "    all_lengths.append(lengths)\n",
    "    print(f\"{avg(lengths):0.2f}\")"
   ]
  },
  {
   "cell_type": "code",
   "execution_count": 14,
   "metadata": {
    "pycharm": {
     "is_executing": false,
     "name": "#%%\n"
    }
   },
   "outputs": [
    {
     "name": "stdout",
     "output_type": "stream",
     "text": [
      "16.905\n"
     ]
    }
   ],
   "source": [
    "new_all_lengths = [all_lengths[1], all_lengths[2], all_lengths[3], all_lengths[5]]\n",
    "print(avg([q for ds in new_all_lengths for q in ds]))"
   ]
  },
  {
   "cell_type": "code",
   "execution_count": null,
   "metadata": {
    "pycharm": {
     "is_executing": false,
     "name": "#%%\n"
    }
   },
   "outputs": [],
   "source": []
  }
 ],
 "metadata": {
  "kernelspec": {
   "display_name": "Python 3",
   "language": "python",
   "name": "python3"
  },
  "language_info": {
   "codemirror_mode": {
    "name": "ipython",
    "version": 3
   },
   "file_extension": ".py",
   "mimetype": "text/x-python",
   "name": "python",
   "nbconvert_exporter": "python",
   "pygments_lexer": "ipython3",
   "version": "3.7.5"
  },
  "pycharm": {
   "stem_cell": {
    "cell_type": "raw",
    "metadata": {
     "collapsed": false
    },
    "source": []
   }
  }
 },
 "nbformat": 4,
 "nbformat_minor": 1
}
